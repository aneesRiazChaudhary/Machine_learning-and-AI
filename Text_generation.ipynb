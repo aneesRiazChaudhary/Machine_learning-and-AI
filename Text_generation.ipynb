{
  "cells": [
    {
      "cell_type": "markdown",
      "source": [
        "# **text to text genration **\n",
        "in this task we will create a word based text genration model where model is trained on each word of text to predict the next sequence of words.we can formulate predicted sequence in a very formated way like writing blogs ,chatbot, content creation and many more applications can be created. but here in this task we will simply predict the next sequence of the words based on text that we will feed to our model . we will train a recurnet neural network GRU\n",
        "\n",
        "# **About Dataset:**\n",
        "it is a textual data of **\"The Lord of the Rings\"** series i collacted it from **kaggle** here im providing link for dataset\n",
        "link:\n",
        " \" https://www.kaggle.com/datasets/prashantkarwasra/books-dataset-text-generation\"\n",
        " now before loading dataset we will prepare our working enviornment with some installations and will import some libraries"
      ],
      "metadata": {
        "id": "BcOvkMsYTkbp"
      }
    },
    {
      "cell_type": "code",
      "execution_count": 1,
      "metadata": {
        "id": "27b1rkXGISHu"
      },
      "outputs": [],
      "source": [
        "%%capture\n",
        "!wget http://example.com/file.zip\n",
        "import nltk\n",
        "nltk.download('punkt_tab')\n",
        "!pip install tensorflow\n",
        "!pip install keras\n",
        "\n",
        "!pip install nltk\n",
        "!pip install keras-tuner -q\n"
      ]
    },
    {
      "cell_type": "code",
      "execution_count": 20,
      "metadata": {
        "id": "UsIEHi9VI3Ca"
      },
      "outputs": [],
      "source": [
        "import numpy as np\n",
        "from nltk.tokenize import sent_tokenize\n",
        "import re\n",
        "import tensorflow as tf\n",
        "import keras\n",
        "from keras import layers\n",
        "from tensorflow.keras.preprocessing.text import Tokenizer\n",
        "from tensorflow.keras.preprocessing.sequence import pad_sequences\n",
        "from sklearn.utils.class_weight import compute_class_weight\n",
        "from keras.models import Sequential\n",
        "from tensorflow.keras.layers import Dense,  GRU, Embedding,  Dropout\n",
        "from tensorflow.keras.losses import SparseCategoricalCrossentropy\n",
        "import itertools\n",
        "import random\n",
        "import keras_tuner\n",
        "from tensorflow.keras.callbacks import EarlyStopping\n",
        "\n",
        "from tensorflow.keras.regularizers import l2\n",
        "import matplotlib.pyplot as plt\n"
      ]
    },
    {
      "cell_type": "markdown",
      "source": [
        "now we will upload text files"
      ],
      "metadata": {
        "id": "HRH9GCS3T0xm"
      }
    },
    {
      "cell_type": "code",
      "execution_count": 3,
      "metadata": {
        "colab": {
          "base_uri": "https://localhost:8080/",
          "height": 214
        },
        "id": "DifZabxAI9vY",
        "outputId": "b064869d-3f0a-46fb-e364-1ab6d7b6fe88"
      },
      "outputs": [
        {
          "output_type": "display_data",
          "data": {
            "text/plain": [
              "<IPython.core.display.HTML object>"
            ],
            "text/html": [
              "\n",
              "     <input type=\"file\" id=\"files-8152bdaa-0f04-46b7-a66f-f6565f07d9dd\" name=\"files[]\" multiple disabled\n",
              "        style=\"border:none\" />\n",
              "     <output id=\"result-8152bdaa-0f04-46b7-a66f-f6565f07d9dd\">\n",
              "      Upload widget is only available when the cell has been executed in the\n",
              "      current browser session. Please rerun this cell to enable.\n",
              "      </output>\n",
              "      <script>// Copyright 2017 Google LLC\n",
              "//\n",
              "// Licensed under the Apache License, Version 2.0 (the \"License\");\n",
              "// you may not use this file except in compliance with the License.\n",
              "// You may obtain a copy of the License at\n",
              "//\n",
              "//      http://www.apache.org/licenses/LICENSE-2.0\n",
              "//\n",
              "// Unless required by applicable law or agreed to in writing, software\n",
              "// distributed under the License is distributed on an \"AS IS\" BASIS,\n",
              "// WITHOUT WARRANTIES OR CONDITIONS OF ANY KIND, either express or implied.\n",
              "// See the License for the specific language governing permissions and\n",
              "// limitations under the License.\n",
              "\n",
              "/**\n",
              " * @fileoverview Helpers for google.colab Python module.\n",
              " */\n",
              "(function(scope) {\n",
              "function span(text, styleAttributes = {}) {\n",
              "  const element = document.createElement('span');\n",
              "  element.textContent = text;\n",
              "  for (const key of Object.keys(styleAttributes)) {\n",
              "    element.style[key] = styleAttributes[key];\n",
              "  }\n",
              "  return element;\n",
              "}\n",
              "\n",
              "// Max number of bytes which will be uploaded at a time.\n",
              "const MAX_PAYLOAD_SIZE = 100 * 1024;\n",
              "\n",
              "function _uploadFiles(inputId, outputId) {\n",
              "  const steps = uploadFilesStep(inputId, outputId);\n",
              "  const outputElement = document.getElementById(outputId);\n",
              "  // Cache steps on the outputElement to make it available for the next call\n",
              "  // to uploadFilesContinue from Python.\n",
              "  outputElement.steps = steps;\n",
              "\n",
              "  return _uploadFilesContinue(outputId);\n",
              "}\n",
              "\n",
              "// This is roughly an async generator (not supported in the browser yet),\n",
              "// where there are multiple asynchronous steps and the Python side is going\n",
              "// to poll for completion of each step.\n",
              "// This uses a Promise to block the python side on completion of each step,\n",
              "// then passes the result of the previous step as the input to the next step.\n",
              "function _uploadFilesContinue(outputId) {\n",
              "  const outputElement = document.getElementById(outputId);\n",
              "  const steps = outputElement.steps;\n",
              "\n",
              "  const next = steps.next(outputElement.lastPromiseValue);\n",
              "  return Promise.resolve(next.value.promise).then((value) => {\n",
              "    // Cache the last promise value to make it available to the next\n",
              "    // step of the generator.\n",
              "    outputElement.lastPromiseValue = value;\n",
              "    return next.value.response;\n",
              "  });\n",
              "}\n",
              "\n",
              "/**\n",
              " * Generator function which is called between each async step of the upload\n",
              " * process.\n",
              " * @param {string} inputId Element ID of the input file picker element.\n",
              " * @param {string} outputId Element ID of the output display.\n",
              " * @return {!Iterable<!Object>} Iterable of next steps.\n",
              " */\n",
              "function* uploadFilesStep(inputId, outputId) {\n",
              "  const inputElement = document.getElementById(inputId);\n",
              "  inputElement.disabled = false;\n",
              "\n",
              "  const outputElement = document.getElementById(outputId);\n",
              "  outputElement.innerHTML = '';\n",
              "\n",
              "  const pickedPromise = new Promise((resolve) => {\n",
              "    inputElement.addEventListener('change', (e) => {\n",
              "      resolve(e.target.files);\n",
              "    });\n",
              "  });\n",
              "\n",
              "  const cancel = document.createElement('button');\n",
              "  inputElement.parentElement.appendChild(cancel);\n",
              "  cancel.textContent = 'Cancel upload';\n",
              "  const cancelPromise = new Promise((resolve) => {\n",
              "    cancel.onclick = () => {\n",
              "      resolve(null);\n",
              "    };\n",
              "  });\n",
              "\n",
              "  // Wait for the user to pick the files.\n",
              "  const files = yield {\n",
              "    promise: Promise.race([pickedPromise, cancelPromise]),\n",
              "    response: {\n",
              "      action: 'starting',\n",
              "    }\n",
              "  };\n",
              "\n",
              "  cancel.remove();\n",
              "\n",
              "  // Disable the input element since further picks are not allowed.\n",
              "  inputElement.disabled = true;\n",
              "\n",
              "  if (!files) {\n",
              "    return {\n",
              "      response: {\n",
              "        action: 'complete',\n",
              "      }\n",
              "    };\n",
              "  }\n",
              "\n",
              "  for (const file of files) {\n",
              "    const li = document.createElement('li');\n",
              "    li.append(span(file.name, {fontWeight: 'bold'}));\n",
              "    li.append(span(\n",
              "        `(${file.type || 'n/a'}) - ${file.size} bytes, ` +\n",
              "        `last modified: ${\n",
              "            file.lastModifiedDate ? file.lastModifiedDate.toLocaleDateString() :\n",
              "                                    'n/a'} - `));\n",
              "    const percent = span('0% done');\n",
              "    li.appendChild(percent);\n",
              "\n",
              "    outputElement.appendChild(li);\n",
              "\n",
              "    const fileDataPromise = new Promise((resolve) => {\n",
              "      const reader = new FileReader();\n",
              "      reader.onload = (e) => {\n",
              "        resolve(e.target.result);\n",
              "      };\n",
              "      reader.readAsArrayBuffer(file);\n",
              "    });\n",
              "    // Wait for the data to be ready.\n",
              "    let fileData = yield {\n",
              "      promise: fileDataPromise,\n",
              "      response: {\n",
              "        action: 'continue',\n",
              "      }\n",
              "    };\n",
              "\n",
              "    // Use a chunked sending to avoid message size limits. See b/62115660.\n",
              "    let position = 0;\n",
              "    do {\n",
              "      const length = Math.min(fileData.byteLength - position, MAX_PAYLOAD_SIZE);\n",
              "      const chunk = new Uint8Array(fileData, position, length);\n",
              "      position += length;\n",
              "\n",
              "      const base64 = btoa(String.fromCharCode.apply(null, chunk));\n",
              "      yield {\n",
              "        response: {\n",
              "          action: 'append',\n",
              "          file: file.name,\n",
              "          data: base64,\n",
              "        },\n",
              "      };\n",
              "\n",
              "      let percentDone = fileData.byteLength === 0 ?\n",
              "          100 :\n",
              "          Math.round((position / fileData.byteLength) * 100);\n",
              "      percent.textContent = `${percentDone}% done`;\n",
              "\n",
              "    } while (position < fileData.byteLength);\n",
              "  }\n",
              "\n",
              "  // All done.\n",
              "  yield {\n",
              "    response: {\n",
              "      action: 'complete',\n",
              "    }\n",
              "  };\n",
              "}\n",
              "\n",
              "scope.google = scope.google || {};\n",
              "scope.google.colab = scope.google.colab || {};\n",
              "scope.google.colab._files = {\n",
              "  _uploadFiles,\n",
              "  _uploadFilesContinue,\n",
              "};\n",
              "})(self);\n",
              "</script> "
            ]
          },
          "metadata": {}
        },
        {
          "output_type": "stream",
          "name": "stdout",
          "text": [
            "Saving Hobbit1.txt to Hobbit1.txt\n",
            "Saving LOTR1.txt to LOTR1.txt\n",
            "Saving LOTR2.txt to LOTR2.txt\n",
            "Saving LOTR3.txt to LOTR3.txt\n",
            "Saving Silmarillion4.txt to Silmarillion4.txt\n"
          ]
        }
      ],
      "source": [
        "from google.colab import files\n",
        "uploaded = files.upload()"
      ]
    },
    {
      "cell_type": "markdown",
      "source": [
        "these are 5 files we will cobine them as a single file"
      ],
      "metadata": {
        "id": "TbHHkLBdUC5v"
      }
    },
    {
      "cell_type": "code",
      "execution_count": 12,
      "metadata": {
        "colab": {
          "base_uri": "https://localhost:8080/"
        },
        "id": "yYDcjZh9JDiT",
        "outputId": "813b8a27-f00c-4fde-a889-0447035cfb0b"
      },
      "outputs": [
        {
          "output_type": "stream",
          "name": "stdout",
          "text": [
            "files combined successfully  the first 100 characters:\n",
            "chapter i \n",
            "\n",
            "\n",
            "an unexpected party \n",
            "\n",
            "\n",
            "in a hole in the ground there lived a hobbit. not a nasty, dirty\n"
          ]
        }
      ],
      "source": [
        "combined_text = \"\"\n",
        "\n",
        "\n",
        "for file_name in uploaded.keys():\n",
        "    try:\n",
        "\n",
        "        with open(file_name, 'r') as file:\n",
        "            file_content = file.read().lower()\n",
        "\n",
        "            combined_text += file_content + \"\\n\"\n",
        "    except Exception as e:\n",
        "        print(f\"error reading file {file_name}: {e}\")\n",
        "\n",
        "\n",
        "with open(\"combined_text.txt\", \"w\") as output_file:\n",
        "    output_file.write(combined_text)\n",
        "\n",
        "\n",
        "if combined_text.strip():\n",
        "    print(\"files combined successfully  the first 100 chars\")\n",
        "    print(combined_text[:100])\n",
        "else:\n",
        "    print(\"no content found in the combined text\")"
      ]
    },
    {
      "cell_type": "code",
      "execution_count": 13,
      "metadata": {
        "colab": {
          "base_uri": "https://localhost:8080/"
        },
        "id": "el4iL67VNldW",
        "outputId": "94b09f43-52df-4c98-b630-216790a79b70"
      },
      "outputs": [
        {
          "output_type": "stream",
          "name": "stdout",
          "text": [
            "3712788\n"
          ]
        }
      ],
      "source": [
        "print(len(combined_text))"
      ]
    },
    {
      "cell_type": "markdown",
      "source": [
        "# **text_claeaning and preprocessing**\n",
        "we can not directly feed textual data to Recurent Neural Network so we will have convert our text to some vector shape for which  we will use word embeddings. to make embedings we have to preprocess data by cleaning data createing sequences of equal length that is padded sequences.so we will move forward step by step\n",
        "we will use nltk tokenize to convert our text into list of sentences"
      ],
      "metadata": {
        "id": "v_wLGKwdVB_t"
      }
    },
    {
      "cell_type": "code",
      "execution_count": 15,
      "metadata": {
        "id": "pqVbCK0nQMT7"
      },
      "outputs": [],
      "source": [
        "sentences = nltk.sent_tokenize(combined_text)"
      ]
    },
    {
      "cell_type": "markdown",
      "source": [
        "now we will remove every thing except English alphabets we have already did lower casing at time of data reading now we will remove all sort of numeric values punctuation trailing white spaces for that we will use regular expresion\n"
      ],
      "metadata": {
        "id": "ooT6h6U6V94r"
      }
    },
    {
      "cell_type": "code",
      "execution_count": 45,
      "metadata": {
        "colab": {
          "base_uri": "https://localhost:8080/"
        },
        "id": "tnIbWV-lQafG",
        "outputId": "bbc670cd-205b-43bd-ff48-acf9469b0ee8"
      },
      "outputs": [
        {
          "output_type": "stream",
          "name": "stdout",
          "text": [
            "<class 'list'>\n",
            "43227\n"
          ]
        }
      ],
      "source": [
        "cleaned_sentences =[ re.sub(r'\\s+', ' ', re.sub(r'[^a-zA-Z\\s]', '', sentences)).strip()\n",
        "                for sentences in sentences\n",
        "\n",
        "                ]\n",
        "# cleaned_sentences[:10]\n",
        "print(type(cleaned_sentences))\n",
        "print(len(cleaned_sentences))"
      ]
    },
    {
      "cell_type": "markdown",
      "source": [
        "now we will split our data into 3 sets training, validation and testing test"
      ],
      "metadata": {
        "id": "n8rT-j25VkkL"
      }
    },
    {
      "cell_type": "code",
      "execution_count": 17,
      "metadata": {
        "colab": {
          "base_uri": "https://localhost:8080/"
        },
        "id": "Hjj8ZJPeQrx8",
        "outputId": "26721943-877b-461d-c9c6-b14ac3eee21d"
      },
      "outputs": [
        {
          "output_type": "stream",
          "name": "stdout",
          "text": [
            "['chapter i an unexpected party in a hole in the ground there lived a hobbit']\n",
            "train_set_len30258\n",
            " val_set_len6484\n",
            " test_set_len6485\n",
            "<class 'list'>\n"
          ]
        }
      ],
      "source": [
        "division_proportions = (0.7, 0.15, 0.15)\n",
        "train_size = int(len(cleaned_sentences ) * division_proportions[0])\n",
        "size_test_val = train_size + int(len(cleaned_sentences ) * division_proportions[1])\n",
        "train_set = cleaned_sentences [:train_size]\n",
        "val_set = cleaned_sentences [train_size:size_test_val]\n",
        "test_set = cleaned_sentences [size_test_val:]\n",
        "print(f\"{train_set[:1]}\\ntrain_set_len{len(train_set)}\\n val_set_len{len(val_set)}\\n test_set_len{len(test_set)}\\n{type(train_set)}\")"
      ]
    },
    {
      "cell_type": "markdown",
      "source": [
        "now we will initialise keras tokenizer to get vocabualry word index maping creating text to sequnces"
      ],
      "metadata": {
        "id": "Y22PGy6uWpxy"
      }
    },
    {
      "cell_type": "code",
      "execution_count": 21,
      "metadata": {
        "colab": {
          "base_uri": "https://localhost:8080/"
        },
        "id": "7a075eJhQ_3T",
        "outputId": "2cc8d397-f946-442f-fa16-d4519fc45d52"
      },
      "outputs": [
        {
          "output_type": "stream",
          "name": "stdout",
          "text": [
            "vocab_size:13599\n",
            "first_5_word_index:{'<OOV>': 1, 'the': 2, 'and': 3, 'of': 4, 'to': 5}\n",
            "first_5_index_to_word:{1: '<OOV>', 2: 'the', 3: 'and', 4: 'of', 5: 'to'}\n"
          ]
        }
      ],
      "source": [
        "tokenizer = Tokenizer(num_words= 500000, oov_token=\"<OOV>\")\n",
        "tokenizer.fit_on_texts(train_set)\n",
        "word_index=(tokenizer.word_index)\n",
        "num = 5\n",
        "first_5_word_index = dict(itertools.islice(word_index.items(), num))\n",
        "index_to_word = (tokenizer.index_word)\n",
        "first_5_index_to_word = dict(itertools.islice(index_to_word.items(), num))\n",
        "vocab_size = len(tokenizer.word_index) + 1\n",
        "print(f\"vocab_size:{vocab_size}\\nfirst_5_word_index:{first_5_word_index}\\nfirst_5_index_to_word:{first_5_index_to_word}\")\n",
        "\n"
      ]
    },
    {
      "cell_type": "markdown",
      "source": [
        "now we will make a function for rest of our preprocessing here we will create text to sequences and will aplly pading for uniform lentgh of input sequences"
      ],
      "metadata": {
        "id": "URkXYEgCXE0Q"
      }
    },
    {
      "cell_type": "code",
      "execution_count": 22,
      "metadata": {
        "id": "lcd3JuufRIXK"
      },
      "outputs": [],
      "source": [
        "def preprocessing(textual_data, maxlen=30):\n",
        "    seq = tokenizer.texts_to_sequences(textual_data)\n",
        "\n",
        "    maxlen = 30\n",
        "    paded_seq = pad_sequences(seq, maxlen=maxlen, padding='post')\n",
        "\n",
        "    x = paded_seq[:, :-1]\n",
        "    y= paded_seq[:, -1]\n",
        "\n",
        "    return( seq, paded_seq, x, y)"
      ]
    },
    {
      "cell_type": "markdown",
      "source": [
        "now we will call function to create input out shape of our data for train and validation set"
      ],
      "metadata": {
        "id": "qRGvYYPSXsTR"
      }
    },
    {
      "cell_type": "code",
      "execution_count": 23,
      "metadata": {
        "colab": {
          "base_uri": "https://localhost:8080/"
        },
        "id": "FjgMFLj6ROJH",
        "outputId": "dedf5dc1-32e6-49b4-f744-d335c8ade74f"
      },
      "outputs": [
        {
          "output_type": "stream",
          "name": "stdout",
          "text": [
            "x_train.shape:(30258, 29) \n",
            "y_train.shape:(30258,)\n",
            "train_paded_seq.shape:(30258, 30)\n"
          ]
        }
      ],
      "source": [
        "train_seq, train_paded_seq, x_train , y_train= preprocessing(train_set, maxlen=30)\n",
        "print(f\"x_train.shape:{(x_train.shape)} \\ny_train.shape:{y_train.shape}\\ntrain_paded_seq.shape:{train_paded_seq.shape}\")\n"
      ]
    },
    {
      "cell_type": "code",
      "execution_count": 24,
      "metadata": {
        "colab": {
          "base_uri": "https://localhost:8080/"
        },
        "id": "Ojwv4zTARU-D",
        "outputId": "9b0ff2a5-f58c-40b9-91ff-5b0419871c5d"
      },
      "outputs": [
        {
          "output_type": "stream",
          "name": "stdout",
          "text": [
            "x_val.shape:(6484, 29) \n",
            "y_val.shape:(6484,)\n",
            "val_paded_seq.shape:(6484, 30)\n"
          ]
        }
      ],
      "source": [
        "val_seq, val_paded_seq, x_val , y_val= preprocessing(val_set, maxlen=30)\n",
        "print(f\"x_val.shape:{(x_val.shape)} \\ny_val.shape:{y_val.shape}\\nval_paded_seq.shape:{val_paded_seq.shape}\")"
      ]
    },
    {
      "cell_type": "markdown",
      "source": [
        "now we will check class distribution by ploting histogram"
      ],
      "metadata": {
        "id": "89p_mlanX_5J"
      }
    },
    {
      "cell_type": "code",
      "source": [
        "plt.hist(np.unique(y_train))"
      ],
      "metadata": {
        "colab": {
          "base_uri": "https://localhost:8080/",
          "height": 502
        },
        "id": "iDtNkrbwYVBw",
        "outputId": "0a6913b9-9c84-4120-c0d2-826e8aef0b98"
      },
      "execution_count": 48,
      "outputs": [
        {
          "output_type": "execute_result",
          "data": {
            "text/plain": [
              "(array([682., 265., 130.,  90.,  59.,  43.,  31.,  24.,  20.,  19.]),\n",
              " array([    0.,  1353.,  2706.,  4059.,  5412.,  6765.,  8118.,  9471.,\n",
              "        10824., 12177., 13530.]),\n",
              " <BarContainer object of 10 artists>)"
            ]
          },
          "metadata": {},
          "execution_count": 48
        },
        {
          "output_type": "display_data",
          "data": {
            "text/plain": [
              "<Figure size 640x480 with 1 Axes>"
            ],
            "image/png": "[encoded data removed]"
          },
          "metadata": {}
        }
      ]
    },
    {
      "cell_type": "markdown",
      "source": [
        "from histogram right skwed there is a huge difference in class distribution to overcome this situation we will use sklearns class weight function and will simply add class weights in fit function"
      ],
      "metadata": {
        "id": "GAmIKUXOY8Ik"
      }
    },
    {
      "cell_type": "code",
      "execution_count": 25,
      "metadata": {
        "id": "wollbLaxSqy7"
      },
      "outputs": [],
      "source": [
        "classes = np.unique(y_train)\n",
        "class_weights = compute_class_weight(class_weight='balanced', classes=classes, y=y_train)\n",
        "\n",
        "class_weights_dict = {i: weight for i, weight in enumerate(class_weights)}\n"
      ]
    },
    {
      "cell_type": "markdown",
      "source": [
        "we have completed preprocessing of data now we will feed our paded sequences to RNN through embeding layer\n",
        "now we will define a search a space for hyperperameters tuning for this we will use keras tuner"
      ],
      "metadata": {
        "id": "m-RZ-kUba22y"
      }
    },
    {
      "cell_type": "code",
      "execution_count": 26,
      "metadata": {
        "id": "Wp1WotKBRbEC"
      },
      "outputs": [],
      "source": [
        "def build_model(hp):\n",
        "  maxlen=30\n",
        "  model = keras.Sequential([\n",
        "\n",
        "\n",
        "      layers.Embedding(input_dim=vocab_size,\n",
        "                       output_dim=hp.Int(\"output_dim\", min_value=25, max_value=75),\n",
        "                       input_length=maxlen - 1, input_shape=(maxlen - 1,)),\n",
        "\n",
        "\n",
        "      layers.GRU(units=hp.Int(\"units\", min_value=32, max_value=128),\n",
        "                 kernel_regularizer=l2(0.01),return_sequences=False),\n",
        "      layers.Dropout(rate=hp.Float('dropout_rate', min_value=0.1,\n",
        "                                   max_value=0.3, step=0.1)),\n",
        "\n",
        "\n",
        "\n",
        "      layers.Dense(units=vocab_size, activation= \"softmax\"),\n",
        "\n",
        "\n",
        "\n",
        "      ])\n",
        "  optimizer = keras.optimizers.RMSprop(learning_rate=hp.Choice('learning_rate', values=[1e-3, 1e-4, 1e-5]))\n",
        "  model.compile(loss=\"sparse_categorical_crossentropy\", optimizer=optimizer, metrics=[\"accuracy\"])\n",
        "  return model"
      ]
    },
    {
      "cell_type": "markdown",
      "source": [
        "now we will confirm status of our search space"
      ],
      "metadata": {
        "id": "3I2luVvVbv8N"
      }
    },
    {
      "cell_type": "code",
      "execution_count": 27,
      "metadata": {
        "colab": {
          "base_uri": "https://localhost:8080/"
        },
        "id": "PGNl_RNXRjeL",
        "outputId": "8029ab6c-cfb3-48d7-9efa-e87bfdeaa4d2"
      },
      "outputs": [
        {
          "output_type": "stream",
          "name": "stderr",
          "text": [
            "/usr/local/lib/python3.10/dist-packages/keras/src/layers/core/embedding.py:90: UserWarning: Argument `input_length` is deprecated. Just remove it.\n",
            "  warnings.warn(\n",
            "/usr/local/lib/python3.10/dist-packages/keras/src/layers/core/embedding.py:93: UserWarning: Do not pass an `input_shape`/`input_dim` argument to a layer. When using Sequential models, prefer using an `Input(shape)` object as the first layer in the model instead.\n",
            "  super().__init__(**kwargs)\n"
          ]
        },
        {
          "output_type": "execute_result",
          "data": {
            "text/plain": [
              "<Sequential name=sequential, built=True>"
            ]
          },
          "metadata": {},
          "execution_count": 27
        }
      ],
      "source": [
        "build_model(keras_tuner.HyperParameters())"
      ]
    },
    {
      "cell_type": "markdown",
      "source": [
        "now we will initialise tuner with random search"
      ],
      "metadata": {
        "id": "url26NDfb3g0"
      }
    },
    {
      "cell_type": "code",
      "execution_count": 30,
      "metadata": {
        "id": "ncCmwuEBWFyo"
      },
      "outputs": [],
      "source": [
        "tuner = keras_tuner.RandomSearch(\n",
        "    build_model,\n",
        "    objective='val_loss',\n",
        "\n",
        "    executions_per_trial=1,\n",
        "    directory='my_dir',\n",
        "    project_name='text_generation_hyp_tuning_weights_bigspace',\n",
        "    max_trials=3)"
      ]
    },
    {
      "cell_type": "code",
      "execution_count": 29,
      "metadata": {
        "colab": {
          "base_uri": "https://localhost:8080/"
        },
        "id": "asBJoMbuWPxU",
        "outputId": "d2a34b01-c25d-49e4-bc2c-24b87a0eadda"
      },
      "outputs": [
        {
          "output_type": "stream",
          "name": "stdout",
          "text": [
            "Search space summary\n",
            "Default search space size: 4\n",
            "output_dim (Int)\n",
            "{'default': None, 'conditions': [], 'min_value': 25, 'max_value': 75, 'step': 1, 'sampling': 'linear'}\n",
            "units (Int)\n",
            "{'default': None, 'conditions': [], 'min_value': 32, 'max_value': 128, 'step': 1, 'sampling': 'linear'}\n",
            "dropout_rate (Float)\n",
            "{'default': 0.1, 'conditions': [], 'min_value': 0.1, 'max_value': 0.3, 'step': 0.1, 'sampling': 'linear'}\n",
            "learning_rate (Choice)\n",
            "{'default': 0.001, 'conditions': [], 'values': [0.001, 0.0001, 1e-05], 'ordered': True}\n"
          ]
        }
      ],
      "source": [
        "tuner.search_space_summary()"
      ]
    },
    {
      "cell_type": "markdown",
      "source": [
        "we are searching for embeding dim GRU units dropout rate learning rate now we will start start searching"
      ],
      "metadata": {
        "id": "-jDwZPJ7caEa"
      }
    },
    {
      "cell_type": "code",
      "execution_count": 31,
      "metadata": {
        "id": "6hOK2OcwWi_6"
      },
      "outputs": [],
      "source": [
        "early_stopping = EarlyStopping(monitor=\"val_loss\", patience=10, restore_best_weights=True)\n",
        "tuner.search(x_train, y_train, epochs=20,batch_size=32 ,\n",
        "             validation_data=(x_val, y_val),\n",
        "             callbacks=[early_stopping], verbose=0,\n",
        "             class_weight=class_weights_dict)"
      ]
    },
    {
      "cell_type": "markdown",
      "source": [
        "tuner tried differnt combinations of these hyperperamters now we will retrieve some of them and will use best hyperperametrs among them to build our final model"
      ],
      "metadata": {
        "id": "5yFImLrHdH87"
      }
    },
    {
      "cell_type": "code",
      "execution_count": 32,
      "metadata": {
        "colab": {
          "base_uri": "https://localhost:8080/"
        },
        "id": "FEGNjGT5be2Z",
        "outputId": "a7c7c1a9-c8ee-4f1e-a36b-8ef5d92cd4a8"
      },
      "outputs": [
        {
          "output_type": "execute_result",
          "data": {
            "text/plain": [
              "{'output_dim': 46, 'units': 36, 'dropout_rate': 0.1, 'learning_rate': 0.001}"
            ]
          },
          "metadata": {},
          "execution_count": 32
        }
      ],
      "source": [
        "best_hps = tuner.get_best_hyperparameters(num_trials=3)[0]\n",
        "best_hps.values"
      ]
    },
    {
      "cell_type": "markdown",
      "source": [
        "these are best hypperameters suited to our model based on our data now we will use these to build final model"
      ],
      "metadata": {
        "id": "lIcNkYfZdkTf"
      }
    },
    {
      "cell_type": "code",
      "execution_count": 33,
      "metadata": {
        "id": "G3ezQz47bmi0"
      },
      "outputs": [],
      "source": [
        "final_model = build_model(best_hps)"
      ]
    },
    {
      "cell_type": "code",
      "execution_count": 34,
      "metadata": {
        "colab": {
          "base_uri": "https://localhost:8080/",
          "height": 265
        },
        "id": "6peoxgavbqg3",
        "outputId": "8baa7305-32f3-4f8f-ad68-ede5c46feefb"
      },
      "outputs": [
        {
          "output_type": "display_data",
          "data": {
            "text/plain": [
              "\u001b[1mModel: \"sequential_1\"\u001b[0m\n"
            ],
            "text/html": [
              "<pre style=\"white-space:pre;overflow-x:auto;line-height:normal;font-family:Menlo,'DejaVu Sans Mono',consolas,'Courier New',monospace\"><span style=\"font-weight: bold\">Model: \"sequential_1\"</span>\n",
              "</pre>\n"
            ]
          },
          "metadata": {}
        },
        {
          "output_type": "display_data",
          "data": {
            "text/plain": [
              "┏━━━━━━━━━━━━━━━━━━━━━━━━━━━━━━━━━━━━━━┳━━━━━━━━━━━━━━━━━━━━━━━━━━━━━┳━━━━━━━━━━━━━━━━━┓\n",
              "┃\u001b[1m \u001b[0m\u001b[1mLayer (type)                        \u001b[0m\u001b[1m \u001b[0m┃\u001b[1m \u001b[0m\u001b[1mOutput Shape               \u001b[0m\u001b[1m \u001b[0m┃\u001b[1m \u001b[0m\u001b[1m        Param #\u001b[0m\u001b[1m \u001b[0m┃\n",
              "┡━━━━━━━━━━━━━━━━━━━━━━━━━━━━━━━━━━━━━━╇━━━━━━━━━━━━━━━━━━━━━━━━━━━━━╇━━━━━━━━━━━━━━━━━┩\n",
              "│ embedding_1 (\u001b[38;5;33mEmbedding\u001b[0m)              │ (\u001b[38;5;45mNone\u001b[0m, \u001b[38;5;34m29\u001b[0m, \u001b[38;5;34m46\u001b[0m)              │         \u001b[38;5;34m625,554\u001b[0m │\n",
              "├──────────────────────────────────────┼─────────────────────────────┼─────────────────┤\n",
              "│ gru_1 (\u001b[38;5;33mGRU\u001b[0m)                          │ (\u001b[38;5;45mNone\u001b[0m, \u001b[38;5;34m36\u001b[0m)                  │           \u001b[38;5;34m9,072\u001b[0m │\n",
              "├──────────────────────────────────────┼─────────────────────────────┼─────────────────┤\n",
              "│ dropout_1 (\u001b[38;5;33mDropout\u001b[0m)                  │ (\u001b[38;5;45mNone\u001b[0m, \u001b[38;5;34m36\u001b[0m)                  │               \u001b[38;5;34m0\u001b[0m │\n",
              "├──────────────────────────────────────┼─────────────────────────────┼─────────────────┤\n",
              "│ dense_1 (\u001b[38;5;33mDense\u001b[0m)                      │ (\u001b[38;5;45mNone\u001b[0m, \u001b[38;5;34m13599\u001b[0m)               │         \u001b[38;5;34m503,163\u001b[0m │\n",
              "└──────────────────────────────────────┴─────────────────────────────┴─────────────────┘\n"
            ],
            "text/html": [
              "<pre style=\"white-space:pre;overflow-x:auto;line-height:normal;font-family:Menlo,'DejaVu Sans Mono',consolas,'Courier New',monospace\">┏━━━━━━━━━━━━━━━━━━━━━━━━━━━━━━━━━━━━━━┳━━━━━━━━━━━━━━━━━━━━━━━━━━━━━┳━━━━━━━━━━━━━━━━━┓\n",
              "┃<span style=\"font-weight: bold\"> Layer (type)                         </span>┃<span style=\"font-weight: bold\"> Output Shape                </span>┃<span style=\"font-weight: bold\">         Param # </span>┃\n",
              "┡━━━━━━━━━━━━━━━━━━━━━━━━━━━━━━━━━━━━━━╇━━━━━━━━━━━━━━━━━━━━━━━━━━━━━╇━━━━━━━━━━━━━━━━━┩\n",
              "│ embedding_1 (<span style=\"color: #0087ff; text-decoration-color: #0087ff\">Embedding</span>)              │ (<span style=\"color: #00d7ff; text-decoration-color: #00d7ff\">None</span>, <span style=\"color: #00af00; text-decoration-color: #00af00\">29</span>, <span style=\"color: #00af00; text-decoration-color: #00af00\">46</span>)              │         <span style=\"color: #00af00; text-decoration-color: #00af00\">625,554</span> │\n",
              "├──────────────────────────────────────┼─────────────────────────────┼─────────────────┤\n",
              "│ gru_1 (<span style=\"color: #0087ff; text-decoration-color: #0087ff\">GRU</span>)                          │ (<span style=\"color: #00d7ff; text-decoration-color: #00d7ff\">None</span>, <span style=\"color: #00af00; text-decoration-color: #00af00\">36</span>)                  │           <span style=\"color: #00af00; text-decoration-color: #00af00\">9,072</span> │\n",
              "├──────────────────────────────────────┼─────────────────────────────┼─────────────────┤\n",
              "│ dropout_1 (<span style=\"color: #0087ff; text-decoration-color: #0087ff\">Dropout</span>)                  │ (<span style=\"color: #00d7ff; text-decoration-color: #00d7ff\">None</span>, <span style=\"color: #00af00; text-decoration-color: #00af00\">36</span>)                  │               <span style=\"color: #00af00; text-decoration-color: #00af00\">0</span> │\n",
              "├──────────────────────────────────────┼─────────────────────────────┼─────────────────┤\n",
              "│ dense_1 (<span style=\"color: #0087ff; text-decoration-color: #0087ff\">Dense</span>)                      │ (<span style=\"color: #00d7ff; text-decoration-color: #00d7ff\">None</span>, <span style=\"color: #00af00; text-decoration-color: #00af00\">13599</span>)               │         <span style=\"color: #00af00; text-decoration-color: #00af00\">503,163</span> │\n",
              "└──────────────────────────────────────┴─────────────────────────────┴─────────────────┘\n",
              "</pre>\n"
            ]
          },
          "metadata": {}
        },
        {
          "output_type": "display_data",
          "data": {
            "text/plain": [
              "\u001b[1m Total params: \u001b[0m\u001b[38;5;34m1,137,789\u001b[0m (4.34 MB)\n"
            ],
            "text/html": [
              "<pre style=\"white-space:pre;overflow-x:auto;line-height:normal;font-family:Menlo,'DejaVu Sans Mono',consolas,'Courier New',monospace\"><span style=\"font-weight: bold\"> Total params: </span><span style=\"color: #00af00; text-decoration-color: #00af00\">1,137,789</span> (4.34 MB)\n",
              "</pre>\n"
            ]
          },
          "metadata": {}
        },
        {
          "output_type": "display_data",
          "data": {
            "text/plain": [
              "\u001b[1m Trainable params: \u001b[0m\u001b[38;5;34m1,137,789\u001b[0m (4.34 MB)\n"
            ],
            "text/html": [
              "<pre style=\"white-space:pre;overflow-x:auto;line-height:normal;font-family:Menlo,'DejaVu Sans Mono',consolas,'Courier New',monospace\"><span style=\"font-weight: bold\"> Trainable params: </span><span style=\"color: #00af00; text-decoration-color: #00af00\">1,137,789</span> (4.34 MB)\n",
              "</pre>\n"
            ]
          },
          "metadata": {}
        },
        {
          "output_type": "display_data",
          "data": {
            "text/plain": [
              "\u001b[1m Non-trainable params: \u001b[0m\u001b[38;5;34m0\u001b[0m (0.00 B)\n"
            ],
            "text/html": [
              "<pre style=\"white-space:pre;overflow-x:auto;line-height:normal;font-family:Menlo,'DejaVu Sans Mono',consolas,'Courier New',monospace\"><span style=\"font-weight: bold\"> Non-trainable params: </span><span style=\"color: #00af00; text-decoration-color: #00af00\">0</span> (0.00 B)\n",
              "</pre>\n"
            ]
          },
          "metadata": {}
        }
      ],
      "source": [
        "final_model.summary()"
      ]
    },
    {
      "cell_type": "markdown",
      "source": [
        "fully connected layers embeding layer which will be feed up with paded sequences of maxlen -1 will output dense vector which will be input of GRU output shape is the size of vocabulary that are our target classes.\n",
        "now we will train our model with a larger number of epochos we will use early stoping function which will stop training when our model stop learning genrelising sequences and will start momorizing patterens"
      ],
      "metadata": {
        "id": "7p0U8CzTfxDp"
      }
    },
    {
      "cell_type": "code",
      "execution_count": 36,
      "metadata": {
        "id": "7fKWHdm9b3Uh"
      },
      "outputs": [],
      "source": [
        "early_stopping = EarlyStopping(monitor='val_loss', patience=10)\n",
        "history_rnn = final_model.fit(x_train, y_train, validation_data=( x_val, y_val),\n",
        "                              batch_size=32, epochs=100,\n",
        "                              callbacks=[early_stopping], verbose=0,\n",
        "                              class_weight=class_weights_dict)"
      ]
    },
    {
      "cell_type": "markdown",
      "source": [
        "now we will check total epochos our model run"
      ],
      "metadata": {
        "id": "EfdKZsflhe7X"
      }
    },
    {
      "cell_type": "code",
      "execution_count": 37,
      "metadata": {
        "colab": {
          "base_uri": "https://localhost:8080/"
        },
        "id": "diH2WaZthGtQ",
        "outputId": "6c2f0b64-5f6c-42b8-9024-c3f51a9b1b15"
      },
      "outputs": [
        {
          "output_type": "stream",
          "name": "stdout",
          "text": [
            "total number of epochs run: 93\n"
          ]
        }
      ],
      "source": [
        "# Check the total number of epochs the model ran\n",
        "total_epochs = len(history_rnn.epoch)\n",
        "print(f\"total number of epochs run: {total_epochs}\")"
      ]
    },
    {
      "cell_type": "markdown",
      "source": [
        "now we will plot training history accuracy and loss"
      ],
      "metadata": {
        "id": "mbNGdTv_hn1V"
      }
    },
    {
      "cell_type": "code",
      "execution_count": 38,
      "metadata": {
        "colab": {
          "base_uri": "https://localhost:8080/",
          "height": 449
        },
        "id": "fuCYZo2shiXC",
        "outputId": "3fb0c7e6-5d1b-4660-8c3e-e52e1d4fa8b1"
      },
      "outputs": [
        {
          "output_type": "display_data",
          "data": {
            "text/plain": [
              "<Figure size 640x480 with 1 Axes>"
            ],
            "image/png": "[encoded data removed]"
          },
          "metadata": {}
        }
      ],
      "source": [
        "plt.plot(history_rnn.history['accuracy'], label='train_accuracy')\n",
        "plt.plot(history_rnn.history['val_accuracy'], label='validation_accuracy')\n",
        "plt.xlabel('epochs')\n",
        "plt.ylabel('accuracy')\n",
        "plt.legend()\n",
        "plt.show()"
      ]
    },
    {
      "cell_type": "markdown",
      "source": [
        "from above plot we can observe training and validation accuracy gradualy increases after 35 epochops and stablizes around 80% . accuracy trend of validation and training almost follows same patterens"
      ],
      "metadata": {
        "id": "mHddez1CijlS"
      }
    },
    {
      "cell_type": "code",
      "execution_count": 39,
      "metadata": {
        "colab": {
          "base_uri": "https://localhost:8080/",
          "height": 449
        },
        "id": "jcd_4bW_hwCQ",
        "outputId": "c615408d-d29d-4431-fa66-c530b6d334e1"
      },
      "outputs": [
        {
          "output_type": "display_data",
          "data": {
            "text/plain": [
              "<Figure size 640x480 with 1 Axes>"
            ],
            "image/png": "[encoded data removed]"
          },
          "metadata": {}
        }
      ],
      "source": [
        "plt.plot(history_rnn.history['loss'], label='train_loss')\n",
        "plt.plot(history_rnn.history['val_loss'], label='validation_loss')\n",
        "plt.xlabel('epochs')\n",
        "plt.ylabel('loss')\n",
        "plt.legend()\n",
        "plt.show()"
      ]
    },
    {
      "cell_type": "markdown",
      "source": [
        "train loss with a slight decrease remains almost same all over training indicates that there is a room for improvements validation loss decreases sharply and stablizes around 2 indicates our model perfomed well\n",
        "now we will evaluate our model with validation data by calculating loss accuracy and perplexity metrixs"
      ],
      "metadata": {
        "id": "__-C4YSDj0Ca"
      }
    },
    {
      "cell_type": "code",
      "execution_count": 44,
      "metadata": {
        "colab": {
          "base_uri": "https://localhost:8080/"
        },
        "id": "TlKeLSnPiJiw",
        "outputId": "ac932c2a-a12d-44db-ff36-e1f0be7a9927"
      },
      "outputs": [
        {
          "output_type": "stream",
          "name": "stdout",
          "text": [
            "val_loss: 1.4254403114318848\n",
            "val_accuracy: 0.8499383330345154\n",
            "val_perplexity: 4.15968899820608\n"
          ]
        }
      ],
      "source": [
        "val_loss, val_accuracy = final_model.evaluate(x_val, y_val,batch_size=32, verbose=0)\n",
        "val_perplexity = np.exp(val_loss)\n",
        "\n",
        "\n",
        "print(f\"val_loss: {val_loss}\")\n",
        "print(f\"val_accuracy: {val_accuracy}\")\n",
        "print(f\"val_perplexity: {val_perplexity}\")"
      ]
    },
    {
      "cell_type": "markdown",
      "source": [
        "these metrix aligns with our plots indicating a lower loss that our model predicted well with validation data almost 85% accuracy lower perplexity metrix indicates that our model learned well\n",
        "now we will preprocess our test data"
      ],
      "metadata": {
        "id": "kkHkS2K8lL1k"
      }
    },
    {
      "cell_type": "code",
      "execution_count": 41,
      "metadata": {
        "colab": {
          "base_uri": "https://localhost:8080/"
        },
        "id": "UEJNOiMojn-J",
        "outputId": "0fb09966-be6c-4032-e47f-b79293771963"
      },
      "outputs": [
        {
          "output_type": "stream",
          "name": "stdout",
          "text": [
            "x_test.shape:(6485, 29) \n",
            "y_test.shape:(6485,)\n",
            "test_paded_seq.shape:(6485, 30)\n"
          ]
        }
      ],
      "source": [
        "test_seq, test_paded_seq, x_test , y_test= preprocessing(test_set, maxlen=30)\n",
        "print(f\"x_test.shape:{(x_test.shape)} \\ny_test.shape:{y_test.shape}\\ntest_paded_seq.shape:{test_paded_seq.shape}\")\n",
        "# print(type(x_train))"
      ]
    },
    {
      "cell_type": "markdown",
      "source": [
        "now we will get predictions and will show randomly some genrated text against seed text we will randomly select seed dentnce from our test set and will get predictions\n",
        "we will randomly select seed sentence preprocess it to feed to medl and check created text"
      ],
      "metadata": {
        "id": "EqsoVxMfmlV2"
      }
    },
    {
      "cell_type": "code",
      "execution_count": 43,
      "metadata": {
        "colab": {
          "base_uri": "https://localhost:8080/"
        },
        "id": "oVS7Rz_rjalG",
        "outputId": "cfe8aa6f-ced5-4f64-db9b-77cfd7164c06"
      },
      "outputs": [
        {
          "output_type": "stream",
          "name": "stdout",
          "text": [
            "Seed Sentence: the golden hall was arrayed with fair hangings and it was filled with light and there was held the highest feast that it had known since the days of its building\n",
            "Generated Sentence: him them it them it it them it them them it it it it it it them it it it\n",
            "--------------------------------------------------\n",
            "Seed Sentence: there he delved anew his vast vaults and dungeons and above their gates he reared the threefold peaks of thangorodrim and a great reek of dark smoke was ever wreathed about them\n",
            "Generated Sentence: them them them them them them them them it it it them them them them it it it it them\n",
            "--------------------------------------------------\n",
            "Seed Sentence: then slowly a change came over the land and the hearts of the elffriends were sorely troubled and many fell away out of fear and although those that remained still called themselves the faithful their enemies named them rebels\n",
            "Generated Sentence: them them them them them them them it them them them them them it them them it them it it\n",
            "--------------------------------------------------\n"
          ]
        }
      ],
      "source": [
        "random_indices = random.sample(range(len(test_set)), 3)\n",
        "random_sentences = [test_set[i] for i in random_indices]\n",
        "\n",
        "\n",
        "for sentence in random_sentences:\n",
        "\n",
        "    seq = tokenizer.texts_to_sequences([sentence])\n",
        "    padded_seq = pad_sequences(seq, maxlen=30, padding='post')\n",
        "    input_seq = padded_seq[:, :-1]\n",
        "\n",
        "\n",
        "    generated_sentence = []\n",
        "    for _ in range(20):\n",
        "        predicted_probs = final_model.predict(input_seq, verbose=0)\n",
        "        predicted_index = np.argmax(predicted_probs[0])\n",
        "        predicted_word = index_to_word.get(predicted_index, \"<unknown>\")\n",
        "\n",
        "        if predicted_word == \"<unknown>\" or predicted_word in [\".\", \"!\", \"?\"]:\n",
        "            break\n",
        "\n",
        "        generated_sentence.append(predicted_word)\n",
        "\n",
        "\n",
        "        input_seq = np.roll(input_seq, -1, axis=1)\n",
        "        input_seq[0, -1] = predicted_index\n",
        "\n",
        "\n",
        "    print(f\"Seed Sentence: {sentence}\")\n",
        "    print(f\"Generated Sentence: {' '.join(generated_sentence)}\")\n",
        "    print(\"-\" * 50)"
      ]
    },
    {
      "cell_type": "markdown",
      "source": [
        "well our model starts genrating text but it dont make any sense repeted words indicates that there is lot of room for improvements\n",
        "now we will evalute models performance with test set"
      ],
      "metadata": {
        "id": "a0z7qDQFoEpg"
      }
    },
    {
      "cell_type": "code",
      "execution_count": 42,
      "metadata": {
        "colab": {
          "base_uri": "https://localhost:8080/"
        },
        "id": "7ugUFCNTnwWa",
        "outputId": "e65bfbf9-6550-4457-a85f-4cac627ea0e4"
      },
      "outputs": [
        {
          "output_type": "stream",
          "name": "stdout",
          "text": [
            "test_loss: 1.4254405498504639\n",
            "test_accuracy: 0.8499383330345154\n",
            "test_perplexity: 4.159689989953338\n"
          ]
        }
      ],
      "source": [
        "test_loss, test_accuracy = final_model.evaluate(x_test, y_test,batch_size=32, verbose=0)\n",
        "test_perplexity = np.exp(val_loss)\n",
        "\n",
        "\n",
        "print(f\"test_loss: {val_loss}\")\n",
        "print(f\"test_accuracy: {val_accuracy}\")\n",
        "print(f\"test_perplexity: {val_perplexity}\")"
      ]
    },
    {
      "cell_type": "markdown",
      "source": [
        "on unseen data these metrix values indicates that our model perfomed well learned well genrelizing sequences and pattrens"
      ],
      "metadata": {
        "id": "ANdySS3ao7Zn"
      }
    },
    {
      "cell_type": "markdown",
      "source": [
        "we started from scratch to build an RNN pipeline it perfomed well but still there is a lot we can do to iprove perfomance of our model by adding more layers fine tune by  changing number of units changing dropout rate and learing rate we can use pretrained word embeddings .\n",
        "we can use pretrained models fo feature extraction then feed to our model or we can use some pretrained model like T5 to enhance progress of our model   "
      ],
      "metadata": {
        "id": "dMCXAaqrqHdf"
      }
    }
  ],
  "metadata": {
    "colab": {
      "provenance": [],
      "gpuType": "T4"
    },
    "kernelspec": {
      "display_name": "Python 3",
      "name": "python3"
    },
    "language_info": {
      "name": "python"
    },
    "accelerator": "GPU"
  },
  "nbformat": 4,
  "nbformat_minor": 0
}